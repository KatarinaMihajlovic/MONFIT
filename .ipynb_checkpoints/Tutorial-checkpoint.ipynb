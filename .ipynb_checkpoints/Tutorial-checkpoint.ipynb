{
 "cells": [
  {
   "cell_type": "markdown",
   "id": "2aeac02b-0b58-4cc9-b1f7-aa2c040e00a7",
   "metadata": {},
   "source": [
    "Preprocessing Step - Create Networks"
   ]
  },
  {
   "cell_type": "code",
   "execution_count": null,
   "id": "25640ed1-c868-42c1-bdca-098f603ad35a",
   "metadata": {},
   "outputs": [],
   "source": [
    "!cd /d step1_CreateNetworks && python CopyFiles.py\n",
    "!cd /d step1_CreateNetworks && python CreateNetworks.py"
   ]
  },
  {
   "cell_type": "markdown",
   "id": "b0623d12-e0b2-4859-874f-8ece824dfb30",
   "metadata": {},
   "source": [
    "# MONFIT "
   ]
  },
  {
   "cell_type": "markdown",
   "id": "9170472f-935b-40f7-9641-7f76909b9cd2",
   "metadata": {},
   "source": [
    "Step 1 - Perform Data Integration with weighted NetSC-NMTF"
   ]
  },
  {
   "cell_type": "code",
   "execution_count": null,
   "id": "802c018f-41d5-4306-a5d1-f5e76d61962a",
   "metadata": {},
   "outputs": [],
   "source": [
    "!cd /d step2_NMTF_WeightedNets && python CopyFiles.py"
   ]
  },
  {
   "cell_type": "code",
   "execution_count": null,
   "id": "0067dd84-f405-465f-8894-632ae359dceb",
   "metadata": {},
   "outputs": [],
   "source": [
    "ccs = ['ND_18', 'WT_18', 'WT_32', 'ND_32', 'WT_8', 'ND_8', 'ND_25', 'WT_25', 'WT_37', 'ND_37']\n",
    "E_w = 10.0\n",
    "PPI_w = 1.0\n",
    "COEX_w = 1.0\n",
    "GI_w = 0.0\n",
    "MI_w = 10.0"
   ]
  },
  {
   "cell_type": "code",
   "execution_count": null,
   "id": "c0a9bdad-25b0-4439-a05e-30d1892f0c89",
   "metadata": {},
   "outputs": [],
   "source": [
    "wd = 'step2_NMTF_WeightedNets'\n",
    "\n",
    "for cc in ccs:\n",
    "    command = f\"python step2_NMTF_WeightedNets/Main_iCell.py {cc} {E_w} {PPI_w} {COEX_w} {GI_w} {MI_w} {wd}\"\n",
    "    !{command}"
   ]
  },
  {
   "cell_type": "markdown",
   "id": "3898449c-3305-4c1a-b3ca-606d46f4afed",
   "metadata": {},
   "source": [
    "Functional analysis of gene embeddings (Cluster+Enrichment)"
   ]
  },
  {
   "cell_type": "markdown",
   "id": "578d2724-db7e-4324-a6c5-8714c2c9734f",
   "metadata": {},
   "source": [
    "Clustering"
   ]
  },
  {
   "cell_type": "code",
   "execution_count": null,
   "id": "98d6ddaf-7258-41c5-80ea-11d5979149aa",
   "metadata": {},
   "outputs": [],
   "source": [
    "wd = 'step3_ClusterG1NMTF_WeightedNets'\n",
    "E_w = 10.0\n",
    "PPI_w = 1.0\n",
    "COEX_w = 1.0\n",
    "GI_w = 0.0\n",
    "MI_w = 10.0\n",
    "command = f\"python {wd}/CopyFiles.py {E_w} {PPI_w} {COEX_w} {GI_w} {MI_w} {wd}\"\n",
    "!{command}"
   ]
  },
  {
   "cell_type": "code",
   "execution_count": null,
   "id": "ad680a07-be2e-40a8-9c60-a9f9365b3b65",
   "metadata": {},
   "outputs": [],
   "source": [
    "wd = 'step3_ClusterG1NMTF_WeightedNets'\n",
    "command = f\"python {wd}/ClusterNMTFEmbeddings.py {E_w} {PPI_w} {COEX_w} {GI_w} {MI_w} {wd}\"\n",
    "!{command}"
   ]
  },
  {
   "cell_type": "markdown",
   "id": "1ff84b29-9e97-4ac8-9574-89d3fcba848e",
   "metadata": {},
   "source": [
    "Enrichment in PD-related pathways"
   ]
  },
  {
   "cell_type": "code",
   "execution_count": null,
   "id": "cc6c9e34-890b-495c-b6fc-b7041b66ade2",
   "metadata": {},
   "outputs": [],
   "source": [
    "wd = 'step4_Enrich_PDgenesPathways_SingleRun'\n",
    "command = f\"python {wd}/CopyFiles.py {wd}\"\n",
    "!{command}"
   ]
  },
  {
   "cell_type": "code",
   "execution_count": null,
   "id": "3260073d-d937-4c9a-802a-a558339540d0",
   "metadata": {},
   "outputs": [],
   "source": [
    "wd = 'step4_Enrich_PDgenesPathways_SingleRun'\n",
    "command = f\"python {wd}/Enrich_PDpathways.py {wd}\"\n",
    "!{command}"
   ]
  },
  {
   "cell_type": "markdown",
   "id": "9f83d429-e791-402d-a0f6-bfc37e773d73",
   "metadata": {},
   "source": [
    "Enrichment in GO-BP terms, KEGG pathways and Reactome pathways"
   ]
  },
  {
   "cell_type": "code",
   "execution_count": null,
   "id": "c4117885-f5e2-46e1-a8f0-a38eda98590d",
   "metadata": {},
   "outputs": [],
   "source": [
    "wd = 'step5_BioAnnotsEnrich'\n",
    "command = f\"python {wd}/CopyFiles.py  {wd}\"\n",
    "!{command}"
   ]
  },
  {
   "cell_type": "code",
   "execution_count": null,
   "id": "ce09682d-693a-466b-8c52-780e01a466f6",
   "metadata": {},
   "outputs": [],
   "source": [
    "wd = 'step5_BioAnnotsEnrich'\n",
    "command = f\"python {wd}/BioAnnotsClustEnrich.py {E_w} {PPI_w} {COEX_w} {GI_w} {MI_w} {wd}\"\n",
    "!{command}"
   ]
  },
  {
   "cell_type": "markdown",
   "id": "9a076600-c579-486e-b403-1a514b86d32d",
   "metadata": {},
   "source": [
    "step 2 - Compute GMMs"
   ]
  },
  {
   "cell_type": "code",
   "execution_count": null,
   "id": "eb28a7bf-b716-41fe-8990-b0b3652f81a9",
   "metadata": {},
   "outputs": [],
   "source": [
    "wd = 'step6_ComputeGMMs'\n",
    "command = f\"python step6_ComputeGMMs/CopyFiles.py {E_w} {PPI_w} {COEX_w} {GI_w} {MI_w} {wd}\"\n",
    "!{command}"
   ]
  },
  {
   "cell_type": "code",
   "execution_count": null,
   "id": "5ace4c7e-afab-4c62-909f-37a1459e06f3",
   "metadata": {},
   "outputs": [],
   "source": [
    "wd = 'step6_ComputeGMMs'\n",
    "command = f\"python {wd}/ComputeGMMs.py {wd}\"\n",
    "!{command}"
   ]
  },
  {
   "cell_type": "markdown",
   "id": "adb2657c-d006-46eb-a58d-247ad0602676",
   "metadata": {},
   "source": [
    "step 3 - Compute TGM and obtain MONFIT Predictions"
   ]
  },
  {
   "cell_type": "code",
   "execution_count": null,
   "id": "a57d3bf5-931f-48a7-8e9d-3034adff6ee7",
   "metadata": {},
   "outputs": [],
   "source": [
    "wd = 'step7_TGM_Predictions'\n",
    "command = f\"python step7_TGM_Predictions/CopyFiles.py {wd}\"\n",
    "!{command}"
   ]
  },
  {
   "cell_type": "code",
   "execution_count": null,
   "id": "b4c6c64e-2eae-4f54-beb1-5ce3589902bc",
   "metadata": {},
   "outputs": [],
   "source": [
    "Flag1 = True\n",
    "Flag2 = True\n",
    "sensitivity = 1\n",
    "command = f\"python step7_TGM_Predictions/TGM_Predictions.py {sensitivity} {Flag1} {Flag2} {wd}\"\n",
    "!{command}"
   ]
  },
  {
   "cell_type": "markdown",
   "id": "cecc5b9a-d82e-4d78-b540-b18276ae45ab",
   "metadata": {},
   "source": [
    "# Analyzing predictions"
   ]
  },
  {
   "cell_type": "markdown",
   "id": "5dbbb5dc-f4c4-45b5-9c7f-a05c9f2d25b8",
   "metadata": {},
   "source": [
    "Global literature validation of the predictions"
   ]
  },
  {
   "cell_type": "code",
   "execution_count": null,
   "id": "72f2fbd5-6a61-4c41-b84e-bdd224549141",
   "metadata": {},
   "outputs": [],
   "source": [
    "wd = 'step8_Validation'\n",
    "command = f\"python {wd}/CopyFiles.py {wd}\"\n",
    "!{command}"
   ]
  },
  {
   "cell_type": "code",
   "execution_count": null,
   "id": "491786ef-225a-4172-b770-cf936c689076",
   "metadata": {},
   "outputs": [],
   "source": [
    "wd = 'step8_Validation'\n",
    "command = f\"python {wd}/Validation.py {wd}\"\n",
    "!{command}"
   ]
  },
  {
   "cell_type": "markdown",
   "id": "ddc786af-9323-4887-b48e-3fa27fc4a380",
   "metadata": {},
   "source": [
    "Enrichment in Biological Annotations (GO-BP and Reactome pathways)"
   ]
  },
  {
   "cell_type": "code",
   "execution_count": null,
   "id": "8e1367f8-d81a-4679-ac3c-17c08f6f22e2",
   "metadata": {},
   "outputs": [],
   "source": [
    "wd = 'step9_EnirchBioPathways'\n",
    "command = f\"python {wd}/CopyFiles.py {wd}\"\n",
    "!{command}"
   ]
  },
  {
   "cell_type": "code",
   "execution_count": null,
   "id": "0a977842-e992-4537-8861-1d6f2a5d904a",
   "metadata": {},
   "outputs": [],
   "source": [
    "wd = 'step9_EnirchBioPathways'\n",
    "command = f\"python {wd}/EnrichmentAnnots.py {wd}\"\n",
    "!{command}"
   ]
  },
  {
   "cell_type": "markdown",
   "id": "6ba57937-6572-4f08-a9e2-78544b329872",
   "metadata": {},
   "source": [
    "Druggability - Enrichment Analysis in Drugs"
   ]
  },
  {
   "cell_type": "code",
   "execution_count": null,
   "id": "6390b44f-c8a8-484a-9f1e-fde7f81fd30f",
   "metadata": {},
   "outputs": [],
   "source": [
    "wd = 'step10_Druggability'\n",
    "command = f\"python {wd}/CopyFiles.py {wd}\"\n",
    "!{command}"
   ]
  },
  {
   "cell_type": "code",
   "execution_count": null,
   "id": "cd10d510-48f5-404b-b99f-b00a1eba88cb",
   "metadata": {},
   "outputs": [],
   "source": [
    "wd = 'step10_Druggability'\n",
    "command = f\"python {wd}/Druggability.py {wd}\"\n",
    "!{command}"
   ]
  },
  {
   "cell_type": "markdown",
   "id": "17e3050e-d6ce-45f9-9786-58d36980e969",
   "metadata": {},
   "source": [
    "Comparison between MONFIT predictions, DEGs and DAPs"
   ]
  },
  {
   "cell_type": "code",
   "execution_count": null,
   "id": "c7bbafad-16ed-4376-9cb8-54669f3088c2",
   "metadata": {},
   "outputs": [],
   "source": [
    "wd = 'step11_ComparisonDEGsDAPs'\n",
    "command = f\"python {wd}/CopyFiles.py {wd}\"\n",
    "!{command}"
   ]
  },
  {
   "cell_type": "code",
   "execution_count": null,
   "id": "68e99e20-857f-40d0-95cd-4c4cb442ee03",
   "metadata": {},
   "outputs": [],
   "source": [
    "wd = 'step11_ComparisonDEGsDAPs'\n",
    "command = f\"python {wd}/ComparisonDEGsDAPs.py {wd}\"\n",
    "!{command}"
   ]
  },
  {
   "cell_type": "code",
   "execution_count": null,
   "id": "52f8a628-e52a-4457-add7-02cd81f8dbb3",
   "metadata": {},
   "outputs": [],
   "source": [
    "command = f\"python {wd}/EnrichmentAnnots.py {wd}\"\n",
    "!{command}"
   ]
  },
  {
   "cell_type": "markdown",
   "id": "e1574027-e8af-4d96-8a27-ac0533a66f79",
   "metadata": {},
   "source": [
    "PPI network analysis"
   ]
  },
  {
   "cell_type": "code",
   "execution_count": null,
   "id": "2173712e-2a93-4383-8bef-47faea65b5aa",
   "metadata": {},
   "outputs": [],
   "source": [
    "wd = 'step12_NetworkAnalysis'\n",
    "command = f\"python {wd}/CopyFiles.py {wd}\"\n",
    "!{command}"
   ]
  },
  {
   "cell_type": "code",
   "execution_count": null,
   "id": "562f9d34-273d-4774-947d-122bfc943b03",
   "metadata": {},
   "outputs": [],
   "source": [
    "command = f\"python {wd}/GenerateGeneralNetworks.py {wd}\"\n",
    "!{command}"
   ]
  },
  {
   "cell_type": "code",
   "execution_count": null,
   "id": "189ea763-3ce1-4f7d-99de-c456e68d09ad",
   "metadata": {},
   "outputs": [],
   "source": [
    "command = f\"python {wd}/NetworkAna.py {wd}\"\n",
    "!{command}"
   ]
  },
  {
   "cell_type": "code",
   "execution_count": null,
   "id": "d475f189-3c31-457a-a235-64201f3b2ae5",
   "metadata": {},
   "outputs": [],
   "source": []
  }
 ],
 "metadata": {
  "kernelspec": {
   "display_name": "Python 3 (ipykernel)",
   "language": "python",
   "name": "python3"
  },
  "language_info": {
   "codemirror_mode": {
    "name": "ipython",
    "version": 3
   },
   "file_extension": ".py",
   "mimetype": "text/x-python",
   "name": "python",
   "nbconvert_exporter": "python",
   "pygments_lexer": "ipython3",
   "version": "3.12.3"
  }
 },
 "nbformat": 4,
 "nbformat_minor": 5
}
